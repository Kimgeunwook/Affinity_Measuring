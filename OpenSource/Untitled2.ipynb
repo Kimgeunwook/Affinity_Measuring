{
 "cells": [
  {
   "cell_type": "code",
   "execution_count": 3,
   "metadata": {},
   "outputs": [
    {
     "ename": "CognitiveFaceException",
     "evalue": "Error when calling Cognitive Face API:\n\tstatus_code: 404\n\tcode: 404\n\tmessage: Resource not found\n",
     "output_type": "error",
     "traceback": [
      "\u001b[1;31m---------------------------------------------------------------------------\u001b[0m",
      "\u001b[1;31mCognitiveFaceException\u001b[0m                    Traceback (most recent call last)",
      "\u001b[1;32m<ipython-input-3-ddb8c047e166>\u001b[0m in \u001b[0;36m<module>\u001b[1;34m\u001b[0m\n\u001b[0;32m     11\u001b[0m \u001b[1;33m\u001b[0m\u001b[0m\n\u001b[0;32m     12\u001b[0m \u001b[0mimg_url\u001b[0m \u001b[1;33m=\u001b[0m \u001b[1;34m'file:///C:/Users/82105/Documents/Yoon/jihye/jihye2.jpg'\u001b[0m \u001b[1;31m# 이미지 파일의 경로\u001b[0m\u001b[1;33m\u001b[0m\u001b[1;33m\u001b[0m\u001b[0m\n\u001b[1;32m---> 13\u001b[1;33m \u001b[0mfaces\u001b[0m \u001b[1;33m=\u001b[0m \u001b[0mCF\u001b[0m\u001b[1;33m.\u001b[0m\u001b[0mface\u001b[0m\u001b[1;33m.\u001b[0m\u001b[0mdetect\u001b[0m\u001b[1;33m(\u001b[0m\u001b[0mimg_url\u001b[0m\u001b[1;33m,\u001b[0m\u001b[1;32mTrue\u001b[0m\u001b[1;33m,\u001b[0m\u001b[1;32mFalse\u001b[0m\u001b[1;33m,\u001b[0m\u001b[1;34m'age,gender'\u001b[0m\u001b[1;33m)\u001b[0m \u001b[1;31m# 중요!\u001b[0m\u001b[1;33m\u001b[0m\u001b[1;33m\u001b[0m\u001b[0m\n\u001b[0m\u001b[0;32m     14\u001b[0m \u001b[1;31m# detect 함수는 4가지의 매개변수를 갖는다.\u001b[0m\u001b[1;33m\u001b[0m\u001b[1;33m\u001b[0m\u001b[1;33m\u001b[0m\u001b[0m\n\u001b[0;32m     15\u001b[0m \u001b[1;31m# 첫 번째 인자 : 이미지파일\u001b[0m\u001b[1;33m\u001b[0m\u001b[1;33m\u001b[0m\u001b[1;33m\u001b[0m\u001b[0m\n",
      "\u001b[1;32m~\\Anaconda3\\lib\\site-packages\\cognitive_face\\face.py\u001b[0m in \u001b[0;36mdetect\u001b[1;34m(image, face_id, landmarks, attributes)\u001b[0m\n\u001b[0;32m     39\u001b[0m \u001b[1;33m\u001b[0m\u001b[0m\n\u001b[0;32m     40\u001b[0m     return util.request(\n\u001b[1;32m---> 41\u001b[1;33m         'POST', url, headers=headers, params=params, json=json, data=data)\n\u001b[0m\u001b[0;32m     42\u001b[0m \u001b[1;33m\u001b[0m\u001b[0m\n\u001b[0;32m     43\u001b[0m \u001b[1;33m\u001b[0m\u001b[0m\n",
      "\u001b[1;32m~\\Anaconda3\\lib\\site-packages\\cognitive_face\\util.py\u001b[0m in \u001b[0;36mrequest\u001b[1;34m(method, url, data, json, headers, params)\u001b[0m\n\u001b[0;32m    103\u001b[0m         raise CognitiveFaceException(response.status_code,\n\u001b[0;32m    104\u001b[0m                                      \u001b[0merror_msg\u001b[0m\u001b[1;33m.\u001b[0m\u001b[0mget\u001b[0m\u001b[1;33m(\u001b[0m\u001b[1;34m'code'\u001b[0m\u001b[1;33m)\u001b[0m\u001b[1;33m,\u001b[0m\u001b[1;33m\u001b[0m\u001b[1;33m\u001b[0m\u001b[0m\n\u001b[1;32m--> 105\u001b[1;33m                                      error_msg.get('message'))\n\u001b[0m\u001b[0;32m    106\u001b[0m \u001b[1;33m\u001b[0m\u001b[0m\n\u001b[0;32m    107\u001b[0m     \u001b[1;31m# Prevent `response.json()` complains about empty response.\u001b[0m\u001b[1;33m\u001b[0m\u001b[1;33m\u001b[0m\u001b[1;33m\u001b[0m\u001b[0m\n",
      "\u001b[1;31mCognitiveFaceException\u001b[0m: Error when calling Cognitive Face API:\n\tstatus_code: 404\n\tcode: 404\n\tmessage: Resource not found\n"
     ]
    }
   ],
   "source": [
    "import requests\n",
    "from io import BytesIO\n",
    "from PIL import Image, ImageDraw\n",
    "import cognitive_face as CF\n",
    "\n",
    "KEY = '73009bacac77452a94a93810679129b6' # 자신의 Cognitive Services API KEY\n",
    "CF.Key.set(KEY)\n",
    "\n",
    "BASE_URL = 'https://westcentralus.api.cognitive.microsoft.com/face/v1.0/detect' # 자신의 지역에 해당하는 URL\n",
    "CF.BaseUrl.set(BASE_URL)\n",
    "\n",
    "img_url = 'file:///C:/Users/82105/Documents/Yoon/jihye/jihye2.jpg' # 이미지 파일의 경로\n",
    "faces = CF.face.detect(img_url,True,False,'age,gender') # 중요!\n",
    "# detect 함수는 4가지의 매개변수를 갖는다.\n",
    "# 첫 번째 인자 : 이미지파일\n",
    "# 두 번째 인자 : face_id의 반환 여부\n",
    "# 세 번째 인자 : landmarks(눈,코,입 등의 위치)의 반환 여부\n",
    "# 네 번째 인자 : 반환할 속성(연령,성별 등)\n",
    "\n",
    "for face in faces:\n",
    "    print(face['faceAttributes']) # 터미널 창에 속성값들을 출력\n",
    "\n",
    "# 인식된 얼굴에 네모 박스 그리는 함수 작성\n",
    "def getRectangle(faceDictionary):\n",
    "    rect = faceDictionary['faceRectangle']\n",
    "    left = rect['left']\n",
    "    top = rect['top']\n",
    "    bottom = left + rect['height']\n",
    "    right = top + rect['width']\n",
    "    return ((left, top), (bottom, right))\n",
    "\n",
    "img = Image.open(img_url) # img 변수에 이미지 파일을 넣어준다.\n",
    "draw = ImageDraw.Draw(img)\n",
    "for face in faces:\n",
    "    draw.rectangle(getRectangle(face), outline='red') # 인식된 얼굴들에 네모 박스 쳐주기\n",
    "\n",
    "img.show() # 이미지 뷰어로 이미지 띄우기"
   ]
  },
  {
   "cell_type": "code",
   "execution_count": null,
   "metadata": {},
   "outputs": [],
   "source": []
  }
 ],
 "metadata": {
  "kernelspec": {
   "display_name": "Python 3",
   "language": "python",
   "name": "python3"
  },
  "language_info": {
   "codemirror_mode": {
    "name": "ipython",
    "version": 3
   },
   "file_extension": ".py",
   "mimetype": "text/x-python",
   "name": "python",
   "nbconvert_exporter": "python",
   "pygments_lexer": "ipython3",
   "version": "3.7.3"
  }
 },
 "nbformat": 4,
 "nbformat_minor": 2
}
