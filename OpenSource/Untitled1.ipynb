{
 "cells": [
  {
   "cell_type": "code",
   "execution_count": 17,
   "metadata": {
    "scrolled": false
   },
   "outputs": [
    {
     "ename": "SyntaxError",
     "evalue": "invalid syntax (<ipython-input-17-fe572fe209e2>, line 25)",
     "output_type": "error",
     "traceback": [
      "\u001b[1;36m  File \u001b[1;32m\"<ipython-input-17-fe572fe209e2>\"\u001b[1;36m, line \u001b[1;32m25\u001b[0m\n\u001b[1;33m    print(res)params = urllib.urlencode({\u001b[0m\n\u001b[1;37m                   ^\u001b[0m\n\u001b[1;31mSyntaxError\u001b[0m\u001b[1;31m:\u001b[0m invalid syntax\n"
     ]
    }
   ],
   "source": [
    "import requests\n",
    "import json\n",
    "\n",
    "# set to your own subscription key value\n",
    "# subscription_key = '73009bacac77452a94a93810679129b6'\n",
    "# assert subscription_key\n",
    "\n",
    "# # replace <My Endpoint String> with the string from your endpoint URL\n",
    "# face_api_url = 'https://westcentralus.api.cognitive.microsoft.com/face/v1.0/detect'\n",
    "\n",
    "# #image_url = 'https://upload.wikimedia.org/wikipedia/commons/3/37/Dagestani_man_and_woman.jpg'\n",
    "# image_url = 'C\\\\Users\\\\82105\\\\Documents\\\\Yoon\\\\jihye\\\\jihye2.jpg'\n",
    "\n",
    "# headers = {'Ocp-Apim-Subscription-Key': subscription_key}\n",
    "\n",
    "params = {\n",
    "    'returnFaceId': 'true',\n",
    "    'returnFaceLandmarks': 'false',\n",
    "    'returnFaceAttributes': 'age,gender,headPose,smile,facialHair,glasses,emotion,hair,makeup,occlusion,accessories,blur,exposure,noise',\n",
    "}\n",
    "\n",
    "# response = requests.post(face_api_url, params=params,\n",
    "#                          headers=headers, json={\"url\": image_url})\n",
    "# res = json.dumps(response.json(),indent=4)\n",
    "print(res)params = urllib.urlencode({\n",
    "    'subscription-key': '73009bacac77452a94a93810679129b6',\n",
    "\n",
    "    'analyzesFaceLandmarks': 'true',\n",
    "\n",
    "    'analyzesAge': 'true',\n",
    "\n",
    "    'analyzesGender': 'true',\n",
    "\n",
    "    'analyzesHeadPose': 'true',\n",
    "\n",
    "}) \n",
    "\n",
    "    #specify image from file\n",
    "\n",
    "    #For a local image, Content-Type should be application/octet-stream or multipart/form-data AND JSON SHOULD BE EMPTY\n",
    "\n",
    "    headers = {\n",
    "\n",
    "        'Content-type': 'application/octet-stream',\n",
    "\n",
    "    }\n",
    "\n",
    "    body = \"\" \n",
    "\n",
    "    #load image\n",
    "\n",
    "    filename = 'C:/Users/82105/Documents/Yoon/jihye/jihye2.jpg'\n",
    "\n",
    "    f = open(filename, \"rb\")\n",
    "\n",
    "    body = f.read()\n",
    "\n",
    "    f.close()\n",
    "\n",
    "    conn = httplib.HTTPSConnection('api.projectoxford.ai')\n",
    "\n",
    "    conn.request(\"POST\", \"/face/v0/detections?%s\" % params, body, headers)\n",
    "\n",
    "    response = conn.getresponse(\"\")\n",
    "\n",
    "    data = response.read()\n",
    "\n",
    "    print(data)\n",
    "\n",
    "    conn.close()"
   ]
  },
  {
   "cell_type": "code",
   "execution_count": null,
   "metadata": {},
   "outputs": [],
   "source": []
  }
 ],
 "metadata": {
  "kernelspec": {
   "display_name": "Python 3",
   "language": "python",
   "name": "python3"
  },
  "language_info": {
   "codemirror_mode": {
    "name": "ipython",
    "version": 3
   },
   "file_extension": ".py",
   "mimetype": "text/x-python",
   "name": "python",
   "nbconvert_exporter": "python",
   "pygments_lexer": "ipython3",
   "version": "3.7.3"
  }
 },
 "nbformat": 4,
 "nbformat_minor": 2
}
