{
 "cells": [
  {
   "cell_type": "code",
   "execution_count": 49,
   "metadata": {
    "scrolled": false
   },
   "outputs": [
    {
     "name": "stdout",
     "output_type": "stream",
     "text": [
      "{'faceId': 'fc82a2be-0093-4ebb-b5a9-dbcbdc7e0461', 'faceRectangle': {'top': 160, 'left': 217, 'width': 184, 'height': 184}, 'faceAttributes': {'smile': 0.799, 'headPose': {'pitch': -5.5, 'roll': 1.9, 'yaw': -23.9}, 'gender': 'female', 'age': 20.0, 'facialHair': {'moustache': 0.0, 'beard': 0.0, 'sideburns': 0.0}, 'glasses': 'NoGlasses', 'emotion': {'anger': 0.0, 'contempt': 0.001, 'disgust': 0.0, 'fear': 0.0, 'happiness': 0.799, 'neutral': 0.195, 'sadness': 0.002, 'surprise': 0.003}, 'blur': {'blurLevel': 'medium', 'value': 0.71}, 'exposure': {'exposureLevel': 'goodExposure', 'value': 0.71}, 'noise': {'noiseLevel': 'medium', 'value': 0.49}, 'makeup': {'eyeMakeup': True, 'lipMakeup': True}, 'accessories': [], 'occlusion': {'foreheadOccluded': False, 'eyeOccluded': False, 'mouthOccluded': False}, 'hair': {'bald': 0.04, 'invisible': False, 'hairColor': [{'color': 'black', 'confidence': 0.99}, {'color': 'brown', 'confidence': 0.82}, {'color': 'gray', 'confidence': 0.49}, {'color': 'other', 'confidence': 0.37}, {'color': 'blond', 'confidence': 0.1}, {'color': 'red', 'confidence': 0.03}]}}}\n"
     ]
    }
   ],
   "source": [
    "import requests\n",
    "import json\n",
    "\n",
    "# set to your own subscription key value\n",
    "subscription_key = '73009bacac77452a94a93810679129b6'\n",
    "assert subscription_key\n",
    "\n",
    "# replace <My Endpoint String> with the string from your endpoint URL\n",
    "face_api_url = 'https://westcentralus.api.cognitive.microsoft.com/face/v1.0/detect'\n",
    "\n",
    "#image_url = 'https://upload.wikimedia.org/wikipedia/commons/3/37/Dagestani_man_and_woman.jpg'\n",
    "image_url = 'https://dimg.donga.com/wps/NEWS/IMAGE/2019/10/21/97986591.2.jpg'\n",
    "\n",
    "headers = {'Ocp-Apim-Subscription-Key': subscription_key}\n",
    "\n",
    "params = {\n",
    "    'returnFaceId': 'true',\n",
    "    'returnFaceLandmarks': 'false',\n",
    "    'returnFaceAttributes': 'age,gender,headPose,smile,facialHair,glasses,emotion,hair,makeup,occlusion,accessories,blur,exposure,noise',\n",
    "}\n",
    "\n",
    "response = requests.post(face_api_url, params=params,\n",
    "                         headers=headers, json={\"url\": image_url})\n",
    "res = json.dumps(response.json(),indent=4)\n",
    "dict = json.loads(res)\n",
    "emoootion = dict[0]\n",
    "#print(res)\n",
    "print(emoootion)"
   ]
  },
  {
   "cell_type": "code",
   "execution_count": null,
   "metadata": {},
   "outputs": [],
   "source": []
  }
 ],
 "metadata": {
  "kernelspec": {
   "display_name": "Python 3",
   "language": "python",
   "name": "python3"
  },
  "language_info": {
   "codemirror_mode": {
    "name": "ipython",
    "version": 3
   },
   "file_extension": ".py",
   "mimetype": "text/x-python",
   "name": "python",
   "nbconvert_exporter": "python",
   "pygments_lexer": "ipython3",
   "version": "3.7.3"
  }
 },
 "nbformat": 4,
 "nbformat_minor": 2
}
