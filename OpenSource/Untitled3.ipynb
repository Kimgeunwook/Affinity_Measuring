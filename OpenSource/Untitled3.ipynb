{
 "cells": [
  {
   "cell_type": "code",
   "execution_count": 6,
   "metadata": {},
   "outputs": [
    {
     "ename": "ModuleNotFoundError",
     "evalue": "No module named 'httplib'",
     "output_type": "error",
     "traceback": [
      "\u001b[1;31m---------------------------------------------------------------------------\u001b[0m",
      "\u001b[1;31mModuleNotFoundError\u001b[0m                       Traceback (most recent call last)",
      "\u001b[1;32m<ipython-input-6-d3e318db77a2>\u001b[0m in \u001b[0;36m<module>\u001b[1;34m\u001b[0m\n\u001b[0;32m      1\u001b[0m \u001b[1;32mimport\u001b[0m \u001b[0murllib\u001b[0m\u001b[1;33m\u001b[0m\u001b[1;33m\u001b[0m\u001b[0m\n\u001b[1;32m----> 2\u001b[1;33m \u001b[1;32mimport\u001b[0m \u001b[0mhttplib\u001b[0m\u001b[1;33m\u001b[0m\u001b[1;33m\u001b[0m\u001b[0m\n\u001b[0m\u001b[0;32m      3\u001b[0m \u001b[1;33m\u001b[0m\u001b[0m\n\u001b[0;32m      4\u001b[0m params = urllib.parse.urlencode({\n\u001b[0;32m      5\u001b[0m     \u001b[1;34m'subscription-key'\u001b[0m\u001b[1;33m:\u001b[0m \u001b[1;34m\"73009bacac77452a94a93810679129b6\"\u001b[0m\u001b[1;33m,\u001b[0m\u001b[1;33m\u001b[0m\u001b[1;33m\u001b[0m\u001b[0m\n",
      "\u001b[1;31mModuleNotFoundError\u001b[0m: No module named 'httplib'"
     ]
    }
   ],
   "source": [
    "import urllib\n",
    "import httplib\n",
    "\n",
    "params = urllib.parse.urlencode({\n",
    "    'subscription-key': \"73009bacac77452a94a93810679129b6\",\n",
    "\n",
    "    'analyzesFaceLandmarks': 'true',\n",
    "\n",
    "    'analyzesAge': 'true',\n",
    "\n",
    "    'analyzesGender': 'true',\n",
    "\n",
    "    'analyzesHeadPose': 'true',\n",
    "\n",
    "}) \n",
    "\n",
    "    #specify image from file\n",
    "\n",
    "    #For a local image, Content-Type should be application/octet-stream or multipart/form-data AND JSON SHOULD BE EMPTY\n",
    "headers = {\n",
    "    'Content-type': 'application/octet-stream',\n",
    "}\n",
    "body = \"\" \n",
    "#load image\n",
    "filename = 'C:/Users/82105/Documents/Yoon/jihye/jihye2.jpg'\n",
    "f = open(filename, \"rb\")\n",
    "body = f.read()\n",
    "f.close()\n",
    "conn = httplib.HTTPSConnection('api.projectoxford.ai')\n",
    "conn.request(\"POST\", \"/face/v0/detections?%s\" % params, body, headers)\n",
    "response = conn.getresponse(\"\")\n",
    "data = response.read()\n",
    "print(data)\n",
    "conn.close()"
   ]
  },
  {
   "cell_type": "code",
   "execution_count": null,
   "metadata": {},
   "outputs": [],
   "source": []
  }
 ],
 "metadata": {
  "kernelspec": {
   "display_name": "Python 3",
   "language": "python",
   "name": "python3"
  },
  "language_info": {
   "codemirror_mode": {
    "name": "ipython",
    "version": 3
   },
   "file_extension": ".py",
   "mimetype": "text/x-python",
   "name": "python",
   "nbconvert_exporter": "python",
   "pygments_lexer": "ipython3",
   "version": "3.7.3"
  }
 },
 "nbformat": 4,
 "nbformat_minor": 2
}
